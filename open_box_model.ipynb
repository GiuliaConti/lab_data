{
 "cells": [
  {
   "cell_type": "code",
   "execution_count": 5,
   "metadata": {},
   "outputs": [],
   "source": [
    "import numpy as np\n",
    "import matplotlib.pyplot as plt\n",
    "import astropy.units as u\n",
    "from astropy.cosmology import Planck13, z_at_value"
   ]
  },
  {
   "cell_type": "code",
   "execution_count": 6,
   "metadata": {},
   "outputs": [],
   "source": [
    "# set global parameters\n",
    "dt=0.01 # Gyr\n",
    "eps=0.02\n",
    "eta=1.0\n",
    "R=0.1\n",
    "f_b=0.15\n",
    "M_h_min=1.e9\n",
    "M_h_max=10.0**11.6\n",
    "M_h_form=5.e8 # dm halo mass at t_form"
   ]
  },
  {
   "cell_type": "code",
   "execution_count": null,
   "metadata": {},
   "outputs": [],
   "source": [
    "# set global arrays\n",
    "t=np.arange(dt,13.0,dt) # Gyr\n",
    "z=t*0.\n",
    "t_dyn=t*0.\n",
    "for i in range(len(t)) :\n",
    "    z[i]=z_at_value(Planck13.age, t[i] * u.Gyr)\n",
    "    t_dyn[i]=2.e7*(1+z[i])**(-0.75) # yr"
   ]
  },
  {
   "cell_type": "code",
   "execution_count": 11,
   "metadata": {},
   "outputs": [],
   "source": [
    "def evolve_galaxy(t_form, t_obs, M_h_in):\n",
    "    # initialize arrays\n",
    "    M_h=t*0.\n",
    "    M_g=t*0.\n",
    "    M_s=t*0.\n",
    "    SFR=t*0.\n",
    "    i=0\n",
    "    while i<len(t) :\n",
    "        if t[i]<t_form :\n",
    "            M_h[i]=M_h_in\n",
    "        elif t[i]<t_obs:\n",
    "            M_dot_h=42.0*((M_h[i-1]/1.e12)**1.127)*(1+1.17*z[i])*(0.3*(1+z[i])**3+0.7)**0.5 # M_sun/yr\n",
    "            M_h[i]=M_h[i-1]+M_dot_h*dt*1.e9\n",
    "            if M_h[i]<M_h_min:\n",
    "                csi=0.0\n",
    "            elif M_h[i]>M_h_min and M_h[i]<M_h_max:\n",
    "                csi=1.0\n",
    "            else:\n",
    "                csi=0.0\n",
    "                #csi=(M_h_max/M_h[i])\n",
    "            M_g[i]=M_g[i-1]+dt*1.e9*(f_b*csi*M_dot_h-eps*(1+eta-R)*M_g[i-1]/t_dyn[i])\n",
    "            SFR[i]=eps*M_g[i]/t_dyn[i]\n",
    "            M_s[i]=M_s[i-1]+SFR[i]*dt*1.e9\n",
    "        else:\n",
    "            M_g[i]=M_g[i-1]\n",
    "            M_s[i]=M_s[i-1]\n",
    "            SFR[1]=SFR[1-1]\n",
    "            i *= 1\n",
    "    return M_h, M_g, M_s, SFR"
   ]
  },
  {
   "cell_type": "code",
   "execution_count": 12,
   "metadata": {},
   "outputs": [],
   "source": [
    "def plot_sSFR(M_s,SFR, col):\n",
    "    t_mark=np.arange(1.,13.,2.0)\n",
    "    M_s_= np.where(M_s>0,M_s,1.0)\n",
    "    SFR_= np.where(SFR>0,SFR, 1.e-10)\n",
    "    sSFR=SFR_/M_s_\n",
    "    plt.plot(np.log10(M_s_),np.log10(sSFR), color=col)\n",
    "    for tt in t_mark:\n",
    "        plt.plot(np.log10(M_s_[t==tt]),np.log10(sSFR[t==tt]),color=col, marker=\"o\")\n",
    "\n",
    "t_form_plot=[0.15,0.17,0.19,0.24,0.34,0.52,1.00]\n",
    "col_plot=[\"black\", \"red\", \"brown\", \"orange\", \"green\", \"blue\", \"violet\"]\n",
    "\n",
    "# plot M_h, time evolution\n",
    "for i in range(len(t_form_plot)):\n",
    "    M_h, M_g, M_s, SFR = evolve_galaxy(t_form=t_form_plot[i],t_obs=13,M_h_in=M_h_form)\n",
    "    plt.plot(t,np.log10(np.where(M_h>0, M_h,1.0)),color=col_plot[i])\n",
    "plt.axhline(y=np.log10(M_h_min), color='black', linestyle='--')\n",
    "plt.axhline(y=np.log10(M_h_max), color='black', linestyle='--')\n",
    "plt.ylim(8.7,13.5)\n",
    "plt.xlabel(\"time (Gyr)\")\n",
    "plt.ylabel(\"log(M_halo/M_sun)\")\n",
    "plt.show()\n",
    "\n",
    "# plot M_g, time evolution\n",
    "for i in range(len(t_form_plot)):\n",
    "    M_h, M_g, M_s, SFR = evolve_galaxy(t_form=t_form_plot[i],t_obs=13,M_h_in=M_h_form)\n",
    "    plt.plot(t,np.log10(np.where(M_g>0,M_g,1.0)),color=col_plot[i])\n",
    "plt.ylim(5,11)\n",
    "plt.xlabel(\"time (Gyr)\")\n",
    "plt.ylabel(\"log(M_gas/M_sun)\")\n",
    "plt.show()\n",
    "\n",
    "# plot M_s, time evolution\n",
    "for i in range(len(t_form_plot)):\n",
    "    M_h, M_g, M_s, SFR = evolve_galaxy(t_form=t_form_plot[i],t_obs=13,M_h_in=M_h_form)\n",
    "    plt.plot(t,np.log10(np.where(M_s>0,M_s,1.0)),color=col_plot[i])\n",
    "plt.ylim(5,11)\n",
    "plt.xlabel(\"time (Gyr)\")\n",
    "plt.ylabel(\"log(M_star/M_sun)\")\n",
    "plt.show()\n",
    "\n",
    "# plot sSFR\n",
    "for i in range(len(t_form_plot)):\n",
    "    M_h, M_g, M_s, SFR = evolve_galaxy(t_form=t_form_plot[i],t_obs=13,M_h_in=M_h_form)\n",
    "    plot_sSFR(M_s,SFR, col=col_plot[i])\n",
    "plt.xlim(7,11.5)\n",
    "plt.ylim(-14, -7)\n",
    "plt.xlabel(\"log(M_star/M_sun)\")\n",
    "plt.ylabel(\"log(sSFR/(1/yr))\")\n",
    "\n",
    "plt.show()"
   ]
  }
 ],
 "metadata": {
  "kernelspec": {
   "display_name": "cigale",
   "language": "python",
   "name": "python3"
  },
  "language_info": {
   "codemirror_mode": {
    "name": "ipython",
    "version": 3
   },
   "file_extension": ".py",
   "mimetype": "text/x-python",
   "name": "python",
   "nbconvert_exporter": "python",
   "pygments_lexer": "ipython3",
   "version": "3.10.13"
  }
 },
 "nbformat": 4,
 "nbformat_minor": 2
}
